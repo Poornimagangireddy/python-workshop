{
 "cells": [
  {
   "cell_type": "code",
   "execution_count": 1,
   "metadata": {},
   "outputs": [
    {
     "name": "stdout",
     "output_type": "stream",
     "text": [
      "[[1 2 3 4 5]]\n"
     ]
    }
   ],
   "source": [
    "import numpy as np\n",
    "a = np.array([1,2,3,4,5],ndmin = 2)\n",
    "print(a)"
   ]
  },
  {
   "cell_type": "code",
   "execution_count": 2,
   "metadata": {},
   "outputs": [
    {
     "name": "stdout",
     "output_type": "stream",
     "text": [
      "[1.+0.j 2.+0.j 3.+0.j]\n"
     ]
    }
   ],
   "source": [
    "import numpy as np\n",
    "a=np.array([1,2,3], dtype = complex)\n",
    "print(a)"
   ]
  },
  {
   "cell_type": "code",
   "execution_count": 3,
   "metadata": {},
   "outputs": [
    {
     "name": "stdout",
     "output_type": "stream",
     "text": [
      "array created using passed list:\n",
      " [[1. 2. 4.]\n",
      " [5. 8. 7.]]\n",
      "array created using passed list:\n",
      " [1 3 2]\n",
      "array created using passed list:\n",
      " [[0. 0. 0. 0.]\n",
      " [0. 0. 0. 0.]\n",
      " [0. 0. 0. 0.]]\n",
      "\n",
      "an array initialized with all 6s.array type is complex:\n",
      " [[6.+0.j 6.+0.j 6.+0.j]\n",
      " [6.+0.j 6.+0.j 6.+0.j]\n",
      " [6.+0.j 6.+0.j 6.+0.j]]\n"
     ]
    }
   ],
   "source": [
    "import numpy as np\n",
    "a=np.array([[1,2,4],[5,8,7]],dtype = 'float')\n",
    "print(\"array created using passed list:\\n\",a)\n",
    "b=np.array((1,3,2))\n",
    "print(\"array created using passed list:\\n\",b)\n",
    "c=np.zeros((3,4))\n",
    "print(\"array created using passed list:\\n\",c)\n",
    "d=np.full((3,3),6,dtype = 'complex')\n",
    "print(\"\\nan array initialized with all 6s.\"\n",
    "           \"array type is complex:\\n\",d)\n"
   ]
  },
  {
   "cell_type": "code",
   "execution_count": 5,
   "metadata": {},
   "outputs": [
    {
     "name": "stdout",
     "output_type": "stream",
     "text": [
      "\n",
      "an sequential array with steps of 4:\n",
      " [ 0  4  8 12 16 20 24 28 32 36]\n"
     ]
    }
   ],
   "source": [
    "e=np.arange(0,40,4)\n",
    "print(\"\\nan sequential array with steps of 4:\\n\",e)"
   ]
  },
  {
   "cell_type": "code",
   "execution_count": 7,
   "metadata": {},
   "outputs": [
    {
     "name": "stdout",
     "output_type": "stream",
     "text": [
      "\n",
      "an random array:\n",
      " [[0.88549293 0.65282968]\n",
      " [0.34672836 0.04029421]]\n"
     ]
    }
   ],
   "source": [
    "f=np.random.random((2,2))\n",
    "print(\"\\nan random array:\\n\",f)"
   ]
  },
  {
   "cell_type": "code",
   "execution_count": 8,
   "metadata": {},
   "outputs": [
    {
     "name": "stdout",
     "output_type": "stream",
     "text": [
      "\n",
      "a sequential array with 10 values between0 and 5:\n",
      " [0.         0.55555556 1.11111111 1.66666667 2.22222222 2.77777778\n",
      " 3.33333333 3.88888889 4.44444444 5.        ]\n"
     ]
    }
   ],
   "source": [
    "g=np.linspace(0,5,10)\n",
    "print(\"\\na sequential array with 10 values between\"\n",
    "                             \"0 and 5:\\n\",g)"
   ]
  },
  {
   "cell_type": "code",
   "execution_count": 1,
   "metadata": {},
   "outputs": [
    {
     "name": "stdout",
     "output_type": "stream",
     "text": [
      "largest element is: 9\n",
      "row-wise maximum elements: [6 7 9]\n",
      "column-wise minimum elements: [1 1 2]\n",
      "sum of all array elements: 38\n",
      "cummulative sum along each row:\n",
      " [[ 1  6 12]\n",
      " [ 4 11 13]\n",
      " [ 3  4 13]]\n"
     ]
    }
   ],
   "source": [
    "import numpy as np\n",
    "arr = np.array([[1,5,6],\n",
    "               [4,7,2],\n",
    "               [3,1,9]])\n",
    "print(\"largest element is:\",arr.max())\n",
    "print(\"row-wise maximum elements:\",\n",
    "                arr.max(axis = 1))\n",
    "print(\"column-wise minimum elements:\",\n",
    "        arr.min(axis = 0))\n",
    "print(\"sum of all array elements:\",\n",
    "     arr.sum())\n",
    "print(\"cummulative sum along each row:\\n\",\n",
    "      arr.cumsum(axis = 1))"
   ]
  },
  {
   "cell_type": "code",
   "execution_count": 2,
   "metadata": {},
   "outputs": [
    {
     "name": "stdout",
     "output_type": "stream",
     "text": [
      "[1 2 3]\n"
     ]
    }
   ],
   "source": [
    "from numpy import array\n",
    "v = array([1,2,3])\n",
    "print(v)"
   ]
  },
  {
   "cell_type": "code",
   "execution_count": 3,
   "metadata": {},
   "outputs": [
    {
     "name": "stdout",
     "output_type": "stream",
     "text": [
      "[1 2 3]\n",
      "[1 2 3]\n",
      "[2 4 6]\n"
     ]
    }
   ],
   "source": [
    "from numpy import array\n",
    "a=array([1,2,3])\n",
    "print(a)\n",
    "b= array([1,2,3])\n",
    "print(b)\n",
    "c=a+b\n",
    "print(c)"
   ]
  },
  {
   "cell_type": "code",
   "execution_count": 20,
   "metadata": {},
   "outputs": [
    {
     "ename": "NameError",
     "evalue": "name 'poornima' is not defined",
     "output_type": "error",
     "traceback": [
      "\u001b[1;31m---------------------------------------------------------------------------\u001b[0m",
      "\u001b[1;31mNameError\u001b[0m                                 Traceback (most recent call last)",
      "\u001b[1;32m<ipython-input-20-e5010572bb09>\u001b[0m in \u001b[0;36m<module>\u001b[1;34m\u001b[0m\n\u001b[1;32m----> 1\u001b[1;33m \u001b[1;32mclass\u001b[0m \u001b[0mstudent\u001b[0m\u001b[1;33m:\u001b[0m\u001b[1;33m\u001b[0m\u001b[1;33m\u001b[0m\u001b[0m\n\u001b[0m\u001b[0;32m      2\u001b[0m     \u001b[0mname\u001b[0m \u001b[1;33m=\u001b[0m \u001b[0mpoornima\u001b[0m\u001b[1;33m\u001b[0m\u001b[1;33m\u001b[0m\u001b[0m\n\u001b[0;32m      3\u001b[0m \u001b[0mg\u001b[0m\u001b[1;33m=\u001b[0m\u001b[0mstudent\u001b[0m\u001b[1;33m(\u001b[0m\u001b[1;33m)\u001b[0m\u001b[1;33m\u001b[0m\u001b[1;33m\u001b[0m\u001b[0m\n\u001b[0;32m      4\u001b[0m \u001b[0mprint\u001b[0m\u001b[1;33m(\u001b[0m\u001b[0mg\u001b[0m\u001b[1;33m.\u001b[0m\u001b[0mname\u001b[0m\u001b[1;33m)\u001b[0m\u001b[1;33m\u001b[0m\u001b[1;33m\u001b[0m\u001b[0m\n",
      "\u001b[1;32m<ipython-input-20-e5010572bb09>\u001b[0m in \u001b[0;36mstudent\u001b[1;34m()\u001b[0m\n\u001b[0;32m      1\u001b[0m \u001b[1;32mclass\u001b[0m \u001b[0mstudent\u001b[0m\u001b[1;33m:\u001b[0m\u001b[1;33m\u001b[0m\u001b[1;33m\u001b[0m\u001b[0m\n\u001b[1;32m----> 2\u001b[1;33m     \u001b[0mname\u001b[0m \u001b[1;33m=\u001b[0m \u001b[0mpoornima\u001b[0m\u001b[1;33m\u001b[0m\u001b[1;33m\u001b[0m\u001b[0m\n\u001b[0m\u001b[0;32m      3\u001b[0m \u001b[0mg\u001b[0m\u001b[1;33m=\u001b[0m\u001b[0mstudent\u001b[0m\u001b[1;33m(\u001b[0m\u001b[1;33m)\u001b[0m\u001b[1;33m\u001b[0m\u001b[1;33m\u001b[0m\u001b[0m\n\u001b[0;32m      4\u001b[0m \u001b[0mprint\u001b[0m\u001b[1;33m(\u001b[0m\u001b[0mg\u001b[0m\u001b[1;33m.\u001b[0m\u001b[0mname\u001b[0m\u001b[1;33m)\u001b[0m\u001b[1;33m\u001b[0m\u001b[1;33m\u001b[0m\u001b[0m\n",
      "\u001b[1;31mNameError\u001b[0m: name 'poornima' is not defined"
     ]
    }
   ],
   "source": [
    "class student:\n",
    "    name = poornima\n",
    "g=student()\n",
    "print(g.name)"
   ]
  },
  {
   "cell_type": "code",
   "execution_count": 9,
   "metadata": {},
   "outputs": [
    {
     "name": "stdout",
     "output_type": "stream",
     "text": [
      "    S.NO           NAME  ROLL NO BRANCH  GRADE  CONTACT NO  AGE      ADDRESS\n",
      "0      1  POORNIMAREDDY      514    CSE     73  7989543040   21  YERRAGUNTLA\n",
      "1      2        SWARUPA      511    CSE     76  9656402534   20      NELLORE\n",
      "2      3    RADHA REDDY      424    ECE     80  6300142525   20      NELLORE\n",
      "3      4         PAVANI      503    CSE     74  7652456810   22      NELLORE\n",
      "4      5        LAKSHMI      504    CSE     69  9852631472   20    UDAYAGIRI\n",
      "5      6         JYOTHI      505    CSE     75  9645824327   20    UDAYAGIRI\n",
      "6      7        SHABANA      506    CSE     80  6321459658   20    UDAYAGIRI\n",
      "7      8        SHABANA      507    CSE     69  6300025462   20    UDAYAGIRI\n",
      "8      9       POOJITHA      509    CSE     74  9625483012   22      NELLORE\n",
      "9     10       SHAILAJA      510    CSE     71  8523647892   20      NELLORE\n",
      "10     1         GEETHA      515    CSE     72  8500431077   20    PRODDUTUR\n",
      "11    12        LAVANYA      517    CSE     75  6300452869   20      NELLORE\n",
      "12    13        BHAVANA      519    CSE     79  6325419856   20   NUDAYAGIRI\n",
      "13    14         SUSHMA      520    CSE     69  9162035478   20      NELLORE\n",
      "14    15          SUDHA      413    ECE     85  6300125469   20       KADAPA\n",
      "15    16    SAIPOOJITHA      416    ECE     75  8956784123   21       BADVEL\n",
      "16    17       POOJITHA      423    ECE     70  9858654236   22     S.RPURAM\n",
      "17    18          YASIN      418    ECE     70  9856234785   20       BADVEL\n",
      "18    19           MAHA      415    ECE     70  6523147893   20       MATTAM\n",
      "19    20          BUJJI      411    ECE     70  7896325124   20      CHAPADU\n"
     ]
    }
   ],
   "source": [
    "import pandas as pd\n",
    "x=pd.read_csv(\"C:/Users/wel_home/Desktop/poori/STUDENT DETAILS.csv\")\n",
    "print(x)"
   ]
  },
  {
   "cell_type": "code",
   "execution_count": 13,
   "metadata": {},
   "outputs": [
    {
     "name": "stdout",
     "output_type": "stream",
     "text": [
      "enter 2 numbers:10 20\n",
      "the sum: 30\n"
     ]
    }
   ],
   "source": [
    "a,b=[int(x) for x in input(\"enter 2 numbers:\").split()]\n",
    "print(\"the sum:\",a+b)"
   ]
  },
  {
   "cell_type": "code",
   "execution_count": null,
   "metadata": {},
   "outputs": [],
   "source": []
  }
 ],
 "metadata": {
  "kernelspec": {
   "display_name": "Python 3",
   "language": "python",
   "name": "python3"
  },
  "language_info": {
   "codemirror_mode": {
    "name": "ipython",
    "version": 3
   },
   "file_extension": ".py",
   "mimetype": "text/x-python",
   "name": "python",
   "nbconvert_exporter": "python",
   "pygments_lexer": "ipython3",
   "version": "3.7.4"
  }
 },
 "nbformat": 4,
 "nbformat_minor": 2
}
