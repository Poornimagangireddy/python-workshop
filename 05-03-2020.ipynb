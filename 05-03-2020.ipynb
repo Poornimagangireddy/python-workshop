{
 "cells": [
  {
   "cell_type": "code",
   "execution_count": 1,
   "metadata": {},
   "outputs": [
    {
     "name": "stdout",
     "output_type": "stream",
     "text": [
      "    S.NO           NAME  ROLL NO BRANCH  GRADE  CONTACT NO  AGE      ADDRESS\n",
      "0      1  POORNIMAREDDY      514    CSE     73  7989543040   21  YERRAGUNTLA\n",
      "1      2        SWARUPA      511    CSE     76  9656402534   20      NELLORE\n",
      "2      3    RADHA REDDY      424    ECE     80  6300142525   20      NELLORE\n",
      "3      4         PAVANI      503    CSE     74  7652456810   22      NELLORE\n",
      "4      5        LAKSHMI      504    CSE     69  9852631472   20    UDAYAGIRI\n",
      "5      6         JYOTHI      505    CSE     75  9645824327   20    UDAYAGIRI\n",
      "6      7        SHABANA      506    CSE     80  6321459658   20    UDAYAGIRI\n",
      "7      8        SHABANA      507    CSE     69  6300025462   20    UDAYAGIRI\n",
      "8      9       POOJITHA      509    CSE     74  9625483012   22      NELLORE\n",
      "9     10       SHAILAJA      510    CSE     71  8523647892   20      NELLORE\n",
      "10     1         GEETHA      515    CSE     72  8500431077   20    PRODDUTUR\n",
      "11    12        LAVANYA      517    CSE     75  6300452869   20      NELLORE\n",
      "12    13        BHAVANA      519    CSE     79  6325419856   20   NUDAYAGIRI\n",
      "13    14         SUSHMA      520    CSE     69  9162035478   20      NELLORE\n",
      "14    15          SUDHA      413    ECE     85  6300125469   20       KADAPA\n",
      "15    16    SAIPOOJITHA      416    ECE     75  8956784123   21       BADVEL\n",
      "16    17       POOJITHA      423    ECE     70  9858654236   22     S.RPURAM\n",
      "17    18          YASIN      418    ECE     70  9856234785   20       BADVEL\n",
      "18    19           MAHA      415    ECE     70  6523147893   20       MATTAM\n",
      "19    20          BUJJI      411    ECE     70  7896325124   20      CHAPADU\n"
     ]
    }
   ],
   "source": [
    "import pandas as pd\n",
    "x=pd.read_csv(\"C:/Users/wel_home/Desktop/poori/STUDENT DETAILS.csv\")\n",
    "print(x)"
   ]
  },
  {
   "cell_type": "code",
   "execution_count": 2,
   "metadata": {},
   "outputs": [
    {
     "name": "stdout",
     "output_type": "stream",
     "text": [
      "enter 2 numbers10 20\n",
      "the sum: 30\n"
     ]
    }
   ],
   "source": [
    "a,b=[int(x) for x in input(\"enter 2 numbers\").split()]\n",
    "print(\"the sum:\",a+b)"
   ]
  },
  {
   "cell_type": "code",
   "execution_count": 3,
   "metadata": {},
   "outputs": [
    {
     "name": "stdout",
     "output_type": "stream",
     "text": [
      "the product: 200\n"
     ]
    }
   ],
   "source": [
    "print(\"the product:\",a*b)"
   ]
  },
  {
   "cell_type": "code",
   "execution_count": 4,
   "metadata": {},
   "outputs": [
    {
     "name": "stdout",
     "output_type": "stream",
     "text": [
      "enter 2 float values10.5 10.5\n",
      "the sum: 21.0\n"
     ]
    }
   ],
   "source": [
    "a,b=[float(x) for x in input(\"enter 2 float values\").split()]\n",
    "print(\"the sum:\",a+b)"
   ]
  },
  {
   "cell_type": "code",
   "execution_count": 5,
   "metadata": {},
   "outputs": [
    {
     "name": "stdout",
     "output_type": "stream",
     "text": [
      "610\n"
     ]
    }
   ],
   "source": [
    "x=eval(\"10+20*30\")\n",
    "print(x)"
   ]
  },
  {
   "cell_type": "code",
   "execution_count": null,
   "metadata": {},
   "outputs": [],
   "source": []
  }
 ],
 "metadata": {
  "kernelspec": {
   "display_name": "Python 3",
   "language": "python",
   "name": "python3"
  },
  "language_info": {
   "codemirror_mode": {
    "name": "ipython",
    "version": 3
   },
   "file_extension": ".py",
   "mimetype": "text/x-python",
   "name": "python",
   "nbconvert_exporter": "python",
   "pygments_lexer": "ipython3",
   "version": "3.7.4"
  }
 },
 "nbformat": 4,
 "nbformat_minor": 2
}
