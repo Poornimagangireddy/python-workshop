{
 "cells": [
  {
   "cell_type": "code",
   "execution_count": 2,
   "metadata": {},
   "outputs": [
    {
     "data": {
      "text/html": [
       "<div>\n",
       "<style scoped>\n",
       "    .dataframe tbody tr th:only-of-type {\n",
       "        vertical-align: middle;\n",
       "    }\n",
       "\n",
       "    .dataframe tbody tr th {\n",
       "        vertical-align: top;\n",
       "    }\n",
       "\n",
       "    .dataframe thead th {\n",
       "        text-align: right;\n",
       "    }\n",
       "</style>\n",
       "<table border=\"1\" class=\"dataframe\">\n",
       "  <thead>\n",
       "    <tr style=\"text-align: right;\">\n",
       "      <th></th>\n",
       "      <th>NAME</th>\n",
       "      <th>DOB</th>\n",
       "      <th>CONTACT</th>\n",
       "      <th>YEAR</th>\n",
       "      <th>CAMPUS PLACEMENT</th>\n",
       "      <th>E-MAIL</th>\n",
       "      <th>READY TO CAMPUS</th>\n",
       "    </tr>\n",
       "  </thead>\n",
       "  <tbody>\n",
       "    <tr>\n",
       "      <td>0</td>\n",
       "      <td>POORNIMA</td>\n",
       "      <td>19-10-1998</td>\n",
       "      <td>9440833509</td>\n",
       "      <td>1998</td>\n",
       "      <td>Y</td>\n",
       "      <td>POORNIMAREDDY345@GMAIL.COM</td>\n",
       "      <td>Y</td>\n",
       "    </tr>\n",
       "    <tr>\n",
       "      <td>1</td>\n",
       "      <td>PRATHIBHA</td>\n",
       "      <td>28-01-1997</td>\n",
       "      <td>9665623548</td>\n",
       "      <td>1997</td>\n",
       "      <td>Y</td>\n",
       "      <td>PRATHIBHAREDDY766@GMAIL.COM</td>\n",
       "      <td>Y</td>\n",
       "    </tr>\n",
       "    <tr>\n",
       "      <td>2</td>\n",
       "      <td>SIVA</td>\n",
       "      <td>01-03-1993</td>\n",
       "      <td>9000409898</td>\n",
       "      <td>1993</td>\n",
       "      <td>Y</td>\n",
       "      <td>SIVAREDDY@GMAIL.COM</td>\n",
       "      <td>Y</td>\n",
       "    </tr>\n",
       "    <tr>\n",
       "      <td>3</td>\n",
       "      <td>MAHESH</td>\n",
       "      <td>09-11-1995</td>\n",
       "      <td>9000500676</td>\n",
       "      <td>1995</td>\n",
       "      <td>Y</td>\n",
       "      <td>MAHESH@GMAIL.COM</td>\n",
       "      <td>Y</td>\n",
       "    </tr>\n",
       "    <tr>\n",
       "      <td>4</td>\n",
       "      <td>CHANDRA</td>\n",
       "      <td>24-07-1990</td>\n",
       "      <td>9856472356</td>\n",
       "      <td>1990</td>\n",
       "      <td>N</td>\n",
       "      <td>CHANDRA@GMAIL.COM</td>\n",
       "      <td>N</td>\n",
       "    </tr>\n",
       "    <tr>\n",
       "      <td>5</td>\n",
       "      <td>CHINNA</td>\n",
       "      <td>24-02-1992</td>\n",
       "      <td>9456236589</td>\n",
       "      <td>1992</td>\n",
       "      <td>Y</td>\n",
       "      <td>CHINNA@GMAIL.COM</td>\n",
       "      <td>Y</td>\n",
       "    </tr>\n",
       "    <tr>\n",
       "      <td>6</td>\n",
       "      <td>ADITHI</td>\n",
       "      <td>27-05-2016</td>\n",
       "      <td>9441520444</td>\n",
       "      <td>2016</td>\n",
       "      <td>Y</td>\n",
       "      <td>ADITHI@GMAIL.COM</td>\n",
       "      <td>Y</td>\n",
       "    </tr>\n",
       "  </tbody>\n",
       "</table>\n",
       "</div>"
      ],
      "text/plain": [
       "        NAME         DOB     CONTACT  YEAR CAMPUS PLACEMENT  \\\n",
       "0   POORNIMA  19-10-1998  9440833509  1998                Y   \n",
       "1  PRATHIBHA  28-01-1997  9665623548  1997                Y   \n",
       "2       SIVA  01-03-1993  9000409898  1993                Y   \n",
       "3     MAHESH  09-11-1995  9000500676  1995                Y   \n",
       "4    CHANDRA  24-07-1990  9856472356  1990                N   \n",
       "5     CHINNA  24-02-1992  9456236589  1992                Y   \n",
       "6     ADITHI  27-05-2016  9441520444  2016                Y   \n",
       "\n",
       "                        E-MAIL READY TO CAMPUS  \n",
       "0   POORNIMAREDDY345@GMAIL.COM               Y  \n",
       "1  PRATHIBHAREDDY766@GMAIL.COM               Y  \n",
       "2          SIVAREDDY@GMAIL.COM               Y  \n",
       "3             MAHESH@GMAIL.COM               Y  \n",
       "4            CHANDRA@GMAIL.COM               N  \n",
       "5             CHINNA@GMAIL.COM               Y  \n",
       "6             ADITHI@GMAIL.COM               Y  "
      ]
     },
     "execution_count": 2,
     "metadata": {},
     "output_type": "execute_result"
    }
   ],
   "source": [
    "import pandas as pd\n",
    "student=pd.read_csv(\"C:/Users/wel_home/Desktop/poori/campus placements.csv\")\n",
    "student"
   ]
  },
  {
   "cell_type": "code",
   "execution_count": 3,
   "metadata": {},
   "outputs": [
    {
     "data": {
      "text/html": [
       "<div>\n",
       "<style scoped>\n",
       "    .dataframe tbody tr th:only-of-type {\n",
       "        vertical-align: middle;\n",
       "    }\n",
       "\n",
       "    .dataframe tbody tr th {\n",
       "        vertical-align: top;\n",
       "    }\n",
       "\n",
       "    .dataframe thead th {\n",
       "        text-align: right;\n",
       "    }\n",
       "</style>\n",
       "<table border=\"1\" class=\"dataframe\">\n",
       "  <thead>\n",
       "    <tr style=\"text-align: right;\">\n",
       "      <th></th>\n",
       "      <th>NAME</th>\n",
       "      <th>DOB</th>\n",
       "      <th>CONTACT</th>\n",
       "      <th>YEAR</th>\n",
       "      <th>CAMPUS PLACEMENT</th>\n",
       "      <th>E-MAIL</th>\n",
       "      <th>READY TO CAMPUS</th>\n",
       "      <th>age</th>\n",
       "    </tr>\n",
       "  </thead>\n",
       "  <tbody>\n",
       "    <tr>\n",
       "      <td>0</td>\n",
       "      <td>POORNIMA</td>\n",
       "      <td>19-10-1998</td>\n",
       "      <td>9440833509</td>\n",
       "      <td>1998</td>\n",
       "      <td>Y</td>\n",
       "      <td>POORNIMAREDDY345@GMAIL.COM</td>\n",
       "      <td>Y</td>\n",
       "      <td>22</td>\n",
       "    </tr>\n",
       "    <tr>\n",
       "      <td>1</td>\n",
       "      <td>PRATHIBHA</td>\n",
       "      <td>28-01-1997</td>\n",
       "      <td>9665623548</td>\n",
       "      <td>1997</td>\n",
       "      <td>Y</td>\n",
       "      <td>PRATHIBHAREDDY766@GMAIL.COM</td>\n",
       "      <td>Y</td>\n",
       "      <td>23</td>\n",
       "    </tr>\n",
       "    <tr>\n",
       "      <td>2</td>\n",
       "      <td>SIVA</td>\n",
       "      <td>01-03-1993</td>\n",
       "      <td>9000409898</td>\n",
       "      <td>1993</td>\n",
       "      <td>Y</td>\n",
       "      <td>SIVAREDDY@GMAIL.COM</td>\n",
       "      <td>Y</td>\n",
       "      <td>27</td>\n",
       "    </tr>\n",
       "    <tr>\n",
       "      <td>3</td>\n",
       "      <td>MAHESH</td>\n",
       "      <td>09-11-1995</td>\n",
       "      <td>9000500676</td>\n",
       "      <td>1995</td>\n",
       "      <td>Y</td>\n",
       "      <td>MAHESH@GMAIL.COM</td>\n",
       "      <td>Y</td>\n",
       "      <td>25</td>\n",
       "    </tr>\n",
       "    <tr>\n",
       "      <td>4</td>\n",
       "      <td>CHANDRA</td>\n",
       "      <td>24-07-1990</td>\n",
       "      <td>9856472356</td>\n",
       "      <td>1990</td>\n",
       "      <td>N</td>\n",
       "      <td>CHANDRA@GMAIL.COM</td>\n",
       "      <td>N</td>\n",
       "      <td>30</td>\n",
       "    </tr>\n",
       "    <tr>\n",
       "      <td>5</td>\n",
       "      <td>CHINNA</td>\n",
       "      <td>24-02-1992</td>\n",
       "      <td>9456236589</td>\n",
       "      <td>1992</td>\n",
       "      <td>Y</td>\n",
       "      <td>CHINNA@GMAIL.COM</td>\n",
       "      <td>Y</td>\n",
       "      <td>28</td>\n",
       "    </tr>\n",
       "    <tr>\n",
       "      <td>6</td>\n",
       "      <td>ADITHI</td>\n",
       "      <td>27-05-2016</td>\n",
       "      <td>9441520444</td>\n",
       "      <td>2016</td>\n",
       "      <td>Y</td>\n",
       "      <td>ADITHI@GMAIL.COM</td>\n",
       "      <td>Y</td>\n",
       "      <td>4</td>\n",
       "    </tr>\n",
       "  </tbody>\n",
       "</table>\n",
       "</div>"
      ],
      "text/plain": [
       "        NAME         DOB     CONTACT  YEAR CAMPUS PLACEMENT  \\\n",
       "0   POORNIMA  19-10-1998  9440833509  1998                Y   \n",
       "1  PRATHIBHA  28-01-1997  9665623548  1997                Y   \n",
       "2       SIVA  01-03-1993  9000409898  1993                Y   \n",
       "3     MAHESH  09-11-1995  9000500676  1995                Y   \n",
       "4    CHANDRA  24-07-1990  9856472356  1990                N   \n",
       "5     CHINNA  24-02-1992  9456236589  1992                Y   \n",
       "6     ADITHI  27-05-2016  9441520444  2016                Y   \n",
       "\n",
       "                        E-MAIL READY TO CAMPUS  age  \n",
       "0   POORNIMAREDDY345@GMAIL.COM               Y   22  \n",
       "1  PRATHIBHAREDDY766@GMAIL.COM               Y   23  \n",
       "2          SIVAREDDY@GMAIL.COM               Y   27  \n",
       "3             MAHESH@GMAIL.COM               Y   25  \n",
       "4            CHANDRA@GMAIL.COM               N   30  \n",
       "5             CHINNA@GMAIL.COM               Y   28  \n",
       "6             ADITHI@GMAIL.COM               Y    4  "
      ]
     },
     "execution_count": 3,
     "metadata": {},
     "output_type": "execute_result"
    }
   ],
   "source": [
    "student[\"age\"]=2020-student[\"YEAR\"]\n",
    "student"
   ]
  },
  {
   "cell_type": "code",
   "execution_count": 8,
   "metadata": {},
   "outputs": [
    {
     "data": {
      "text/html": [
       "<div>\n",
       "<style scoped>\n",
       "    .dataframe tbody tr th:only-of-type {\n",
       "        vertical-align: middle;\n",
       "    }\n",
       "\n",
       "    .dataframe tbody tr th {\n",
       "        vertical-align: top;\n",
       "    }\n",
       "\n",
       "    .dataframe thead th {\n",
       "        text-align: right;\n",
       "    }\n",
       "</style>\n",
       "<table border=\"1\" class=\"dataframe\">\n",
       "  <thead>\n",
       "    <tr style=\"text-align: right;\">\n",
       "      <th></th>\n",
       "      <th>NAME</th>\n",
       "      <th>DOB</th>\n",
       "      <th>CONTACT</th>\n",
       "      <th>YEAR</th>\n",
       "      <th>CAMPUS PLACEMENT</th>\n",
       "      <th>E-MAIL</th>\n",
       "      <th>READY TO CAMPUS</th>\n",
       "    </tr>\n",
       "  </thead>\n",
       "  <tbody>\n",
       "    <tr>\n",
       "      <td>0</td>\n",
       "      <td>POORNIMA</td>\n",
       "      <td>19-10-1998</td>\n",
       "      <td>9440833509</td>\n",
       "      <td>1998</td>\n",
       "      <td>Y</td>\n",
       "      <td>POORNIMAREDDY345@GMAIL.COM</td>\n",
       "      <td>Y</td>\n",
       "    </tr>\n",
       "    <tr>\n",
       "      <td>1</td>\n",
       "      <td>PRATHIBHA</td>\n",
       "      <td>28-01-1997</td>\n",
       "      <td>9665623548</td>\n",
       "      <td>1997</td>\n",
       "      <td>Y</td>\n",
       "      <td>PRATHIBHAREDDY766@GMAIL.COM</td>\n",
       "      <td>Y</td>\n",
       "    </tr>\n",
       "    <tr>\n",
       "      <td>2</td>\n",
       "      <td>SIVA</td>\n",
       "      <td>01-03-1993</td>\n",
       "      <td>9000409898</td>\n",
       "      <td>1993</td>\n",
       "      <td>Y</td>\n",
       "      <td>SIVAREDDY@GMAIL.COM</td>\n",
       "      <td>Y</td>\n",
       "    </tr>\n",
       "    <tr>\n",
       "      <td>3</td>\n",
       "      <td>MAHESH</td>\n",
       "      <td>09-11-1995</td>\n",
       "      <td>9000500676</td>\n",
       "      <td>1995</td>\n",
       "      <td>Y</td>\n",
       "      <td>MAHESH@GMAIL.COM</td>\n",
       "      <td>Y</td>\n",
       "    </tr>\n",
       "    <tr>\n",
       "      <td>5</td>\n",
       "      <td>CHINNA</td>\n",
       "      <td>24-02-1992</td>\n",
       "      <td>9456236589</td>\n",
       "      <td>1992</td>\n",
       "      <td>Y</td>\n",
       "      <td>CHINNA@GMAIL.COM</td>\n",
       "      <td>Y</td>\n",
       "    </tr>\n",
       "    <tr>\n",
       "      <td>6</td>\n",
       "      <td>ADITHI</td>\n",
       "      <td>27-05-2016</td>\n",
       "      <td>9441520444</td>\n",
       "      <td>2016</td>\n",
       "      <td>Y</td>\n",
       "      <td>ADITHI@GMAIL.COM</td>\n",
       "      <td>Y</td>\n",
       "    </tr>\n",
       "  </tbody>\n",
       "</table>\n",
       "</div>"
      ],
      "text/plain": [
       "        NAME         DOB     CONTACT  YEAR CAMPUS PLACEMENT  \\\n",
       "0   POORNIMA  19-10-1998  9440833509  1998                Y   \n",
       "1  PRATHIBHA  28-01-1997  9665623548  1997                Y   \n",
       "2       SIVA  01-03-1993  9000409898  1993                Y   \n",
       "3     MAHESH  09-11-1995  9000500676  1995                Y   \n",
       "5     CHINNA  24-02-1992  9456236589  1992                Y   \n",
       "6     ADITHI  27-05-2016  9441520444  2016                Y   \n",
       "\n",
       "                        E-MAIL READY TO CAMPUS  \n",
       "0   POORNIMAREDDY345@GMAIL.COM               Y  \n",
       "1  PRATHIBHAREDDY766@GMAIL.COM               Y  \n",
       "2          SIVAREDDY@GMAIL.COM               Y  \n",
       "3             MAHESH@GMAIL.COM               Y  \n",
       "5             CHINNA@GMAIL.COM               Y  \n",
       "6             ADITHI@GMAIL.COM               Y  "
      ]
     },
     "execution_count": 8,
     "metadata": {},
     "output_type": "execute_result"
    }
   ],
   "source": [
    "student[student[\"CAMPUS PLACEMENT\"]==\"Y\"]"
   ]
  },
  {
   "cell_type": "code",
   "execution_count": 8,
   "metadata": {},
   "outputs": [
    {
     "data": {
      "text/html": [
       "<div>\n",
       "<style scoped>\n",
       "    .dataframe tbody tr th:only-of-type {\n",
       "        vertical-align: middle;\n",
       "    }\n",
       "\n",
       "    .dataframe tbody tr th {\n",
       "        vertical-align: top;\n",
       "    }\n",
       "\n",
       "    .dataframe thead th {\n",
       "        text-align: right;\n",
       "    }\n",
       "</style>\n",
       "<table border=\"1\" class=\"dataframe\">\n",
       "  <thead>\n",
       "    <tr style=\"text-align: right;\">\n",
       "      <th></th>\n",
       "      <th>name</th>\n",
       "      <th>age</th>\n",
       "      <th>favorite_color</th>\n",
       "      <th>grade</th>\n",
       "    </tr>\n",
       "  </thead>\n",
       "  <tbody>\n",
       "    <tr>\n",
       "      <td>0</td>\n",
       "      <td>Geetha</td>\n",
       "      <td>21</td>\n",
       "      <td>blue</td>\n",
       "      <td>88</td>\n",
       "    </tr>\n",
       "    <tr>\n",
       "      <td>1</td>\n",
       "      <td>pavani</td>\n",
       "      <td>22</td>\n",
       "      <td>yellow</td>\n",
       "      <td>92</td>\n",
       "    </tr>\n",
       "    <tr>\n",
       "      <td>2</td>\n",
       "      <td>venkata ramana</td>\n",
       "      <td>20</td>\n",
       "      <td>white</td>\n",
       "      <td>95</td>\n",
       "    </tr>\n",
       "    <tr>\n",
       "      <td>3</td>\n",
       "      <td>abhi</td>\n",
       "      <td>22</td>\n",
       "      <td>green</td>\n",
       "      <td>70</td>\n",
       "    </tr>\n",
       "    <tr>\n",
       "      <td>4</td>\n",
       "      <td>manasa</td>\n",
       "      <td>23</td>\n",
       "      <td>pink</td>\n",
       "      <td>66</td>\n",
       "    </tr>\n",
       "  </tbody>\n",
       "</table>\n",
       "</div>"
      ],
      "text/plain": [
       "             name  age favorite_color  grade\n",
       "0          Geetha   21           blue     88\n",
       "1          pavani   22         yellow     92\n",
       "2  venkata ramana   20          white     95\n",
       "3            abhi   22          green     70\n",
       "4          manasa   23           pink     66"
      ]
     },
     "execution_count": 8,
     "metadata": {},
     "output_type": "execute_result"
    }
   ],
   "source": [
    "import pandas as pd\n",
    "import numpy as np\n",
    "data = {'name': ['Geetha', 'pavani', 'venkata ramana', 'abhi','manasa'],\n",
    "        'age': [21,22, 20,22,23],\n",
    "        'favorite_color': ['blue', 'yellow', 'white', 'green','pink'],\n",
    "        'grade': [88, 92, 95, 70,66]}\n",
    "df = pd.DataFrame(data, index = [0,1,2,3,4])\n",
    "df"
   ]
  },
  {
   "cell_type": "markdown",
   "metadata": {},
   "source": [
    "# df['grade'].mean()"
   ]
  },
  {
   "cell_type": "code",
   "execution_count": 9,
   "metadata": {},
   "outputs": [
    {
     "data": {
      "text/plain": [
       "88.0"
      ]
     },
     "execution_count": 9,
     "metadata": {},
     "output_type": "execute_result"
    }
   ],
   "source": [
    "df['grade'].median()"
   ]
  },
  {
   "cell_type": "code",
   "execution_count": 10,
   "metadata": {},
   "outputs": [
    {
     "data": {
      "text/plain": [
       "0    66\n",
       "1    70\n",
       "2    88\n",
       "3    92\n",
       "4    95\n",
       "dtype: int64"
      ]
     },
     "execution_count": 10,
     "metadata": {},
     "output_type": "execute_result"
    }
   ],
   "source": [
    "df['grade'].mode()"
   ]
  },
  {
   "cell_type": "code",
   "execution_count": 12,
   "metadata": {},
   "outputs": [
    {
     "data": {
      "text/plain": [
       "82.2"
      ]
     },
     "execution_count": 12,
     "metadata": {},
     "output_type": "execute_result"
    }
   ],
   "source": [
    "df['grade'].mean()"
   ]
  },
  {
   "cell_type": "code",
   "execution_count": 20,
   "metadata": {},
   "outputs": [
    {
     "data": {
      "text/html": [
       "<div>\n",
       "<style scoped>\n",
       "    .dataframe tbody tr th:only-of-type {\n",
       "        vertical-align: middle;\n",
       "    }\n",
       "\n",
       "    .dataframe tbody tr th {\n",
       "        vertical-align: top;\n",
       "    }\n",
       "\n",
       "    .dataframe thead th {\n",
       "        text-align: right;\n",
       "    }\n",
       "</style>\n",
       "<table border=\"1\" class=\"dataframe\">\n",
       "  <thead>\n",
       "    <tr style=\"text-align: right;\">\n",
       "      <th></th>\n",
       "      <th>name</th>\n",
       "      <th>age</th>\n",
       "      <th>college</th>\n",
       "      <th>placement</th>\n",
       "    </tr>\n",
       "  </thead>\n",
       "  <tbody>\n",
       "    <tr>\n",
       "      <td>0</td>\n",
       "      <td>karthik</td>\n",
       "      <td>20</td>\n",
       "      <td>adhisankar</td>\n",
       "      <td>yes</td>\n",
       "    </tr>\n",
       "    <tr>\n",
       "      <td>1</td>\n",
       "      <td>poori</td>\n",
       "      <td>30</td>\n",
       "      <td>merits</td>\n",
       "      <td>yes</td>\n",
       "    </tr>\n",
       "    <tr>\n",
       "      <td>2</td>\n",
       "      <td>sudha</td>\n",
       "      <td>28</td>\n",
       "      <td>CBIT</td>\n",
       "      <td>yes</td>\n",
       "    </tr>\n",
       "    <tr>\n",
       "      <td>3</td>\n",
       "      <td>deepa</td>\n",
       "      <td>15</td>\n",
       "      <td>IIIT</td>\n",
       "      <td>no</td>\n",
       "    </tr>\n",
       "  </tbody>\n",
       "</table>\n",
       "</div>"
      ],
      "text/plain": [
       "      name  age     college placement\n",
       "0  karthik   20  adhisankar       yes\n",
       "1    poori   30      merits       yes\n",
       "2    sudha   28        CBIT       yes\n",
       "3    deepa   15        IIIT        no"
      ]
     },
     "execution_count": 20,
     "metadata": {},
     "output_type": "execute_result"
    }
   ],
   "source": [
    "import pandas as pd\n",
    "import numpy as np\n",
    "data={\"name\":[\"karthik\",\"poori\",\"sudha\",\"deepa\"],\n",
    "       \"age\":[20,30,28,15],\n",
    "       \"college\":[\"adhisankar\",\"merits\",\"CBIT\",\"IIIT\"],\n",
    "       \"placement\":[\"yes\",\"yes\",\"yes\",\"no\"]}\n",
    "gf=pd.DataFrame(data,index=[0,1,2,3])\n",
    "gf"
   ]
  },
  {
   "cell_type": "code",
   "execution_count": 22,
   "metadata": {},
   "outputs": [
    {
     "data": {
      "text/plain": [
       "24.0"
      ]
     },
     "execution_count": 22,
     "metadata": {},
     "output_type": "execute_result"
    }
   ],
   "source": [
    "gf[\"age\"].median()"
   ]
  },
  {
   "cell_type": "code",
   "execution_count": 23,
   "metadata": {},
   "outputs": [
    {
     "data": {
      "text/plain": [
       "23.25"
      ]
     },
     "execution_count": 23,
     "metadata": {},
     "output_type": "execute_result"
    }
   ],
   "source": [
    "gf[\"age\"].mean()"
   ]
  },
  {
   "cell_type": "code",
   "execution_count": 24,
   "metadata": {},
   "outputs": [
    {
     "ename": "SyntaxError",
     "evalue": "invalid syntax (<ipython-input-24-b3f10284eeb2>, line 1)",
     "output_type": "error",
     "traceback": [
      "\u001b[1;36m  File \u001b[1;32m\"<ipython-input-24-b3f10284eeb2>\"\u001b[1;36m, line \u001b[1;32m1\u001b[0m\n\u001b[1;33m    gf[\"age\"].standard deviation()\u001b[0m\n\u001b[1;37m                               ^\u001b[0m\n\u001b[1;31mSyntaxError\u001b[0m\u001b[1;31m:\u001b[0m invalid syntax\n"
     ]
    }
   ],
   "source": [
    "gf[\"age\"].standard deviation()"
   ]
  },
  {
   "cell_type": "code",
   "execution_count": null,
   "metadata": {},
   "outputs": [],
   "source": []
  }
 ],
 "metadata": {
  "kernelspec": {
   "display_name": "Python 3",
   "language": "python",
   "name": "python3"
  },
  "language_info": {
   "codemirror_mode": {
    "name": "ipython",
    "version": 3
   },
   "file_extension": ".py",
   "mimetype": "text/x-python",
   "name": "python",
   "nbconvert_exporter": "python",
   "pygments_lexer": "ipython3",
   "version": "3.7.4"
  }
 },
 "nbformat": 4,
 "nbformat_minor": 2
}
