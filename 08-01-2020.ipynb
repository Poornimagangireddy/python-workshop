{
 "cells": [
  {
   "cell_type": "code",
   "execution_count": 1,
   "metadata": {},
   "outputs": [
    {
     "name": "stdout",
     "output_type": "stream",
     "text": [
      "enter n value72\n",
      "b grade\n"
     ]
    }
   ],
   "source": [
    "m=int(input('enter n value'))\n",
    "if(m>=90 and m<=100):\n",
    "    print('a grade')\n",
    "elif(m>=60 and m<=89):\n",
    "        print('b grade')\n",
    "elif(m>=40 and m<=59):\n",
    "            print('c grade')\n",
    "elif(m<=40):\n",
    "                print('fail')"
   ]
  },
  {
   "cell_type": "code",
   "execution_count": 1,
   "metadata": {},
   "outputs": [
    {
     "name": "stdout",
     "output_type": "stream",
     "text": [
      "enter a number765\n"
     ]
    },
    {
     "ename": "NameError",
     "evalue": "name 'a' is not defined",
     "output_type": "error",
     "traceback": [
      "\u001b[1;31m---------------------------------------------------------------------------\u001b[0m",
      "\u001b[1;31mNameError\u001b[0m                                 Traceback (most recent call last)",
      "\u001b[1;32m<ipython-input-1-8107a290e6ec>\u001b[0m in \u001b[0;36m<module>\u001b[1;34m\u001b[0m\n\u001b[0;32m      2\u001b[0m \u001b[0mid\u001b[0m\u001b[1;33m=\u001b[0m\u001b[1;36m0\u001b[0m\u001b[1;33m\u001b[0m\u001b[1;33m\u001b[0m\u001b[0m\n\u001b[0;32m      3\u001b[0m \u001b[1;32mwhile\u001b[0m \u001b[0mn\u001b[0m\u001b[1;33m>\u001b[0m\u001b[1;36m0\u001b[0m\u001b[1;33m:\u001b[0m\u001b[1;33m\u001b[0m\u001b[1;33m\u001b[0m\u001b[0m\n\u001b[1;32m----> 4\u001b[1;33m     \u001b[1;32mif\u001b[0m\u001b[1;33m(\u001b[0m\u001b[0mid\u001b[0m\u001b[1;33m<=\u001b[0m\u001b[0ma\u001b[0m\u001b[1;33m)\u001b[0m\u001b[1;33m:\u001b[0m\u001b[1;33m\u001b[0m\u001b[1;33m\u001b[0m\u001b[0m\n\u001b[0m\u001b[0;32m      5\u001b[0m         \u001b[0mid\u001b[0m\u001b[1;33m==\u001b[0m\u001b[0ma\u001b[0m\u001b[1;33m\u001b[0m\u001b[1;33m\u001b[0m\u001b[0m\n\u001b[0;32m      6\u001b[0m     \u001b[0mn\u001b[0m\u001b[1;33m=\u001b[0m\u001b[0mint\u001b[0m\u001b[1;33m(\u001b[0m\u001b[0mn\u001b[0m\u001b[1;33m/\u001b[0m\u001b[1;36m10\u001b[0m\u001b[1;33m)\u001b[0m\u001b[1;33m\u001b[0m\u001b[1;33m\u001b[0m\u001b[0m\n",
      "\u001b[1;31mNameError\u001b[0m: name 'a' is not defined"
     ]
    }
   ],
   "source": [
    "n=int(input('enter a number'))\n",
    "id=0\n",
    "while n>0:\n",
    "    if(id<=a):\n",
    "        id==a\n",
    "    n=int(n/10)\n",
    "    print(\"\\n largest digit is\",id)"
   ]
  },
  {
   "cell_type": "code",
   "execution_count": null,
   "metadata": {},
   "outputs": [],
   "source": [
    "n=int(input('enter a number'))\n",
    "id=0\n",
    "while (n>0):\n",
    "    if(id<=a):\n",
    "        id==a\n",
    "    n=int(n//10)\n",
    "    print(\"\\n largest digit is\",id)"
   ]
  },
  {
   "cell_type": "code",
   "execution_count": null,
   "metadata": {},
   "outputs": [],
   "source": [
    "a=int(input('enter n value'))\n",
    "for n in range(n):\n",
    "    s=o\n",
    "for i in range (1,n):\n",
    "    if(n%i==0):\n",
    "        s=s+1\n",
    "    if(s==n):\n",
    "        print(n)"
   ]
  },
  {
   "cell_type": "code",
   "execution_count": 33,
   "metadata": {},
   "outputs": [
    {
     "ename": "IndentationError",
     "evalue": "expected an indented block (<ipython-input-33-4d162ba63e32>, line 6)",
     "output_type": "error",
     "traceback": [
      "\u001b[1;36m  File \u001b[1;32m\"<ipython-input-33-4d162ba63e32>\"\u001b[1;36m, line \u001b[1;32m6\u001b[0m\n\u001b[1;33m    for i in range(2,num):\u001b[0m\n\u001b[1;37m                          ^\u001b[0m\n\u001b[1;31mIndentationError\u001b[0m\u001b[1;31m:\u001b[0m expected an indented block\n"
     ]
    }
   ],
   "source": [
    "lower=1\n",
    "upper=30\n",
    "print(\"prime numbers between\",lower&upper)\n",
    "for num in range(lower,upper+1):\n",
    "        if(num>1):\n",
    "for i in range(2,num):\n",
    "        break\n",
    "else:\n",
    "            print(num)\n",
    "            \n",
    "    "
   ]
  },
  {
   "cell_type": "code",
   "execution_count": 1,
   "metadata": {},
   "outputs": [
    {
     "name": "stdout",
     "output_type": "stream",
     "text": [
      "enter lower limit1\n",
      "enter upper limit10\n",
      "2\n",
      "3\n",
      "5\n",
      "7\n"
     ]
    }
   ],
   "source": [
    "a=int(input(\"enter lower limit\"))\n",
    "b=int(input(\"enter upper limit\"))\n",
    "for n in range(a,b):\n",
    "    f=0\n",
    "    for i in range(1,n):\n",
    "        if n%i==0:\n",
    "            f=f+1\n",
    "    if f==1:\n",
    "            print(n)\n"
   ]
  },
  {
   "cell_type": "code",
   "execution_count": 21,
   "metadata": {},
   "outputs": [
    {
     "name": "stdout",
     "output_type": "stream",
     "text": [
      "243\n",
      "3\n"
     ]
    }
   ],
   "source": [
    "n=int(input())\n",
    "count=0\n",
    "while n>0:\n",
    "    a=n%10\n",
    "    count+=1\n",
    "    n=n//10\n",
    "print(count)"
   ]
  },
  {
   "cell_type": "code",
   "execution_count": 4,
   "metadata": {},
   "outputs": [
    {
     "name": "stdout",
     "output_type": "stream",
     "text": [
      "123\n",
      "321\n"
     ]
    }
   ],
   "source": [
    "n=int(input())\n",
    "re=0\n",
    "while n>0:\n",
    "    rem=n%10\n",
    "    re=re*10+rem\n",
    "    n=n//10\n",
    "print(re)"
   ]
  },
  {
   "cell_type": "code",
   "execution_count": 5,
   "metadata": {},
   "outputs": [
    {
     "data": {
      "text/plain": [
       "'a'"
      ]
     },
     "execution_count": 5,
     "metadata": {},
     "output_type": "execute_result"
    }
   ],
   "source": [
    "s=\"hai\"\n",
    "s[1]\n"
   ]
  },
  {
   "cell_type": "code",
   "execution_count": 14,
   "metadata": {},
   "outputs": [
    {
     "name": "stdout",
     "output_type": "stream",
     "text": [
      "enter a number243\n",
      "not armstrong number\n"
     ]
    }
   ],
   "source": [
    "n=int(input('enter a number'))\n",
    "m=n\n",
    "s=0\n",
    "l=len(str(n))\n",
    "while (n>0):\n",
    "    rem=n%10\n",
    "    if(l>3):\n",
    "        s=s+rem**l\n",
    "    else:\n",
    "        s=s+rem**3\n",
    "    n=n//10\n",
    "if(s==m):\n",
    "        print(\"armstrong number\")\n",
    "else:\n",
    "        print(\"not armstrong number\")\n",
    "        \n",
    "            \n"
   ]
  },
  {
   "cell_type": "code",
   "execution_count": 18,
   "metadata": {},
   "outputs": [
    {
     "name": "stdout",
     "output_type": "stream",
     "text": [
      "enter a number2\n",
      "2 X 1 = 2\n",
      "2 X 2 = 4\n",
      "2 X 3 = 6\n",
      "2 X 4 = 8\n",
      "2 X 5 = 10\n",
      "2 X 6 = 12\n",
      "2 X 7 = 14\n",
      "2 X 8 = 16\n",
      "2 X 9 = 18\n",
      "2 X 10 = 20\n"
     ]
    }
   ],
   "source": [
    "n=int(input('enter a number'))\n",
    "for i in range(1,11):\n",
    "    print(n,\"X\",i,\"=\",n*i)\n"
   ]
  },
  {
   "cell_type": "code",
   "execution_count": 19,
   "metadata": {},
   "outputs": [
    {
     "name": "stdout",
     "output_type": "stream",
     "text": [
      "enter a number2\n",
      "2X1=2\n",
      "2X2=4\n",
      "2X3=6\n",
      "2X4=8\n",
      "2X5=10\n",
      "2X6=12\n",
      "2X7=14\n",
      "2X8=16\n",
      "2X9=18\n",
      "2X10=20\n"
     ]
    }
   ],
   "source": [
    "n=int(input('enter a number'))\n",
    "for i in range(1,11):\n",
    "    print(\"{}X{}={}\".format(n,i,n*i))"
   ]
  },
  {
   "cell_type": "code",
   "execution_count": 20,
   "metadata": {},
   "outputs": [
    {
     "data": {
      "text/plain": [
       "'i'"
      ]
     },
     "execution_count": 20,
     "metadata": {},
     "output_type": "execute_result"
    }
   ],
   "source": [
    "s=\"hai\"\n",
    "s[2]"
   ]
  },
  {
   "cell_type": "code",
   "execution_count": 29,
   "metadata": {},
   "outputs": [
    {
     "name": "stdout",
     "output_type": "stream",
     "text": [
      "121\n",
      "121\n",
      "0\n",
      " palindrome\n"
     ]
    }
   ],
   "source": [
    "n=int(input())\n",
    "m=n\n",
    "rev=0\n",
    "while n>0:\n",
    "    rem=n%10\n",
    "    rev=rev*10+rem\n",
    "    n=n//10\n",
    "print(rev)\n",
    "print(n)\n",
    "if(m==rev):\n",
    "     print(\" palindrome\")\n",
    "else:\n",
    "     print(\" not palindrome\")\n",
    "    "
   ]
  },
  {
   "cell_type": "code",
   "execution_count": 13,
   "metadata": {},
   "outputs": [
    {
     "name": "stdout",
     "output_type": "stream",
     "text": [
      "2\n"
     ]
    }
   ],
   "source": [
    "def most_frequent(List):\n",
    "    counter=0\n",
    "    num=List[0]\n",
    "    for i in List:\n",
    "        curr_frequency=List.count(i)\n",
    "        if(curr_frequency>counter):\n",
    "            counter=curr_frequency\n",
    "            num=i\n",
    "            \n",
    "        return num\n",
    "List=[2,1,2,2,1,3]\n",
    "print(most_frequent (List))"
   ]
  },
  {
   "cell_type": "code",
   "execution_count": 1,
   "metadata": {},
   "outputs": [],
   "source": [
    "def most_frequent(List):\n",
    "    dict={}\n",
    "    count, itm=0,''\n",
    "    for item in reversed(List):\n",
    "        dict[item]= dict.get(item,0)+1\n",
    "        if dict[item]>=count:\n",
    "            count,itm=dict[item],item\n",
    "            return(itm)\n",
    "        List=[2,1,2,2,1,3]\n",
    "        print(most_frequent(list))"
   ]
  },
  {
   "cell_type": "code",
   "execution_count": 12,
   "metadata": {},
   "outputs": [
    {
     "name": "stdout",
     "output_type": "stream",
     "text": [
      "2\n"
     ]
    }
   ],
   "source": [
    "def most_frequent(List):\n",
    "    dict={}\n",
    "    count, itm=0,''\n",
    "    for item in reversed (List):\n",
    "        dict[item]= dict.get(item,0)+1\n",
    "        if dict[item]>=count:\n",
    "            count,itm=dict[item],item\n",
    "    return(itm)\n",
    "List=[2,1,2,2,1,3]\n",
    "print(most_frequent (List))"
   ]
  },
  {
   "cell_type": "code",
   "execution_count": 18,
   "metadata": {},
   "outputs": [
    {
     "name": "stdout",
     "output_type": "stream",
     "text": [
      "enter the number of elements to be in the list:5\n",
      "enter:2\n",
      "enter:3\n",
      "enter:4\n",
      "enter:5\n",
      "enter:6\n",
      "largest even number: 6\n",
      "largest odd number: 5\n"
     ]
    }
   ],
   "source": [
    "n=int(input(\"enter the number of elements to be in the list:\"))\n",
    "b=[]\n",
    "for i in range (0,n):\n",
    "    a=int(input(\"enter:\"))\n",
    "    b.append(a)\n",
    "c=[]\n",
    "d=[]\n",
    "for i in b:\n",
    "    if(i%2==0):\n",
    "        c.append(i)\n",
    "    else:\n",
    "        d.append(i)\n",
    "c.sort()\n",
    "d.sort()\n",
    "count1=0\n",
    "count2=0\n",
    "for k in c:\n",
    "    count1=count1+1\n",
    "for j in d:\n",
    "        count2=count2+1\n",
    "print(\"largest even number:\",c[count1-1])\n",
    "print(\"largest odd number:\",d[count2-1])"
   ]
  },
  {
   "cell_type": "code",
   "execution_count": null,
   "metadata": {},
   "outputs": [],
   "source": []
  }
 ],
 "metadata": {
  "kernelspec": {
   "display_name": "Python 3",
   "language": "python",
   "name": "python3"
  },
  "language_info": {
   "codemirror_mode": {
    "name": "ipython",
    "version": 3
   },
   "file_extension": ".py",
   "mimetype": "text/x-python",
   "name": "python",
   "nbconvert_exporter": "python",
   "pygments_lexer": "ipython3",
   "version": "3.7.4"
  }
 },
 "nbformat": 4,
 "nbformat_minor": 2
}
