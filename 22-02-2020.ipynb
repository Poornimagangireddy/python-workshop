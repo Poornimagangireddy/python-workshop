{
 "cells": [
  {
   "cell_type": "code",
   "execution_count": 5,
   "metadata": {},
   "outputs": [
    {
     "name": "stdout",
     "output_type": "stream",
     "text": [
      "the alien's color isgreen\n"
     ]
    }
   ],
   "source": [
    "alien = {'color':'green','points': 5}\n",
    "print(\"the alien's color is\" + alien ['color'])"
   ]
  },
  {
   "cell_type": "markdown",
   "metadata": {},
   "source": [
    "# dictionaries\n"
   ]
  },
  {
   "cell_type": "code",
   "execution_count": 8,
   "metadata": {},
   "outputs": [],
   "source": [
    "alien['x-position']=0"
   ]
  },
  {
   "cell_type": "code",
   "execution_count": 21,
   "metadata": {},
   "outputs": [
    {
     "data": {
      "text/plain": [
       "{'color': 'green', 'points': 5, 'x-position': 0}"
      ]
     },
     "execution_count": 21,
     "metadata": {},
     "output_type": "execute_result"
    }
   ],
   "source": [
    "alien"
   ]
  },
  {
   "cell_type": "code",
   "execution_count": 24,
   "metadata": {},
   "outputs": [
    {
     "name": "stdout",
     "output_type": "stream",
     "text": [
      "eric loves 17\n",
      "ever loves 4\n"
     ]
    }
   ],
   "source": [
    "#looping through all keys -value pairs\n",
    "fav_numbers = {'eric': 17, 'ever': 4}\n",
    "for name, number in fav_numbers.items():\n",
    "    print(name + ' loves ' + str(number))\n"
   ]
  },
  {
   "cell_type": "markdown",
   "metadata": {},
   "source": [
    "# if elif-else\n"
   ]
  },
  {
   "cell_type": "code",
   "execution_count": 3,
   "metadata": {},
   "outputs": [
    {
     "name": "stdout",
     "output_type": "stream",
     "text": [
      "age12\n",
      "10\n"
     ]
    }
   ],
   "source": [
    "age= int(input(\"age\"))\n",
    "if age < 4:\n",
    "    ticket_price = 0\n",
    "elif age < 18:\n",
    "    ticket_price = 10\n",
    "else:\n",
    "    ticket_price = 15\n",
    "print(ticket_price)\n"
   ]
  },
  {
   "cell_type": "code",
   "execution_count": 48,
   "metadata": {},
   "outputs": [
    {
     "name": "stdout",
     "output_type": "stream",
     "text": [
      "pooriloves a daddy\n",
      "pooriloves a daddy\n"
     ]
    }
   ],
   "source": [
    "#looping through all keys \n",
    "fav_daddy = {'poori': 17, 'puppy': 4}\n",
    "for name in fav_daddy.keys():\n",
    "    print('poori' + 'loves a daddy')\n",
    "    "
   ]
  },
  {
   "cell_type": "code",
   "execution_count": 38,
   "metadata": {},
   "outputs": [
    {
     "name": "stdout",
     "output_type": "stream",
     "text": [
      "17 is a favorite\n",
      "4 is a favorite\n"
     ]
    }
   ],
   "source": [
    "# looping through all the value\n",
    "fav_numbers = {'eric':17, 'ever': 4}\n",
    "for number in fav_numbers.values():\n",
    "    print(str(number) + ' is a favorite')"
   ]
  },
  {
   "cell_type": "code",
   "execution_count": 39,
   "metadata": {},
   "outputs": [
    {
     "name": "stdout",
     "output_type": "stream",
     "text": [
      "what's your name? poori\n",
      "hello, poori!\n"
     ]
    }
   ],
   "source": [
    "# prompting for a value\n",
    "name = input(\"what's your name? \")\n",
    "print(\"hello, \" + name +\"!\")"
   ]
  },
  {
   "cell_type": "code",
   "execution_count": 41,
   "metadata": {},
   "outputs": [
    {
     "name": "stdout",
     "output_type": "stream",
     "text": [
      "how old are you?21\n",
      "what's the value of pi? 3.14\n"
     ]
    }
   ],
   "source": [
    "# prompting for numerical input\n",
    "age = input(\"how old are you?\")\n",
    "age = int(age)\n",
    "pi = input(\"what's the value of pi? \")\n",
    "pi = float (pi)"
   ]
  },
  {
   "cell_type": "code",
   "execution_count": 43,
   "metadata": {},
   "outputs": [
    {
     "name": "stdout",
     "output_type": "stream",
     "text": [
      "1\n",
      "2\n",
      "3\n",
      "4\n",
      "5\n"
     ]
    }
   ],
   "source": [
    "#simple while loop\n",
    "current_value = 1\n",
    "while current_value <= 5:\n",
    "    print(current_value)\n",
    "    current_value += 1"
   ]
  },
  {
   "cell_type": "code",
   "execution_count": 44,
   "metadata": {},
   "outputs": [
    {
     "name": "stdout",
     "output_type": "stream",
     "text": [
      "what's your message? hw r u dad\n",
      "hw r u dad\n",
      "what's your message? quit\n",
      "quit\n"
     ]
    }
   ],
   "source": [
    "#letting user choose when to quit\n",
    "msg = ' '\n",
    "while msg != 'quit':\n",
    "    msg = input(\"what's your message? \")\n",
    "    \n",
    "    print(msg)"
   ]
  },
  {
   "cell_type": "code",
   "execution_count": 45,
   "metadata": {},
   "outputs": [
    {
     "name": "stdout",
     "output_type": "stream",
     "text": [
      "hello! \n"
     ]
    }
   ],
   "source": [
    "#simple function\n",
    "def greet_user():\n",
    "    print(\"hello! \")\n",
    "greet_user()    \n"
   ]
  },
  {
   "cell_type": "code",
   "execution_count": 46,
   "metadata": {},
   "outputs": [
    {
     "name": "stdout",
     "output_type": "stream",
     "text": [
      "hello, jesse!\n"
     ]
    }
   ],
   "source": [
    "#passing an argument\n",
    "def greet_user(username):\n",
    "    print(\"hello, \" + username + \"!\")\n",
    "greet_user('jesse')\n"
   ]
  },
  {
   "cell_type": "code",
   "execution_count": 47,
   "metadata": {},
   "outputs": [
    {
     "name": "stdout",
     "output_type": "stream",
     "text": [
      "have a baconpizza!\n",
      "have a pepperonipizza!\n"
     ]
    }
   ],
   "source": [
    "#default values for parameters\n",
    "def make_pizza(topping='bacon'):\n",
    "    print(\"have a \" + topping + \"pizza!\")\n",
    "make_pizza()\n",
    "make_pizza('pepperoni')"
   ]
  },
  {
   "cell_type": "code",
   "execution_count": 49,
   "metadata": {},
   "outputs": [
    {
     "name": "stdout",
     "output_type": "stream",
     "text": [
      "8\n"
     ]
    }
   ],
   "source": [
    "#returning a value\n",
    "def add_numbers(x,y):\n",
    "    return x+y\n",
    "sum = add_numbers(3,5)\n",
    "print(sum)\n"
   ]
  },
  {
   "cell_type": "code",
   "execution_count": 53,
   "metadata": {},
   "outputs": [
    {
     "name": "stdout",
     "output_type": "stream",
     "text": [
      "pesois a great dog!\n",
      "pesois sitting.\n"
     ]
    }
   ],
   "source": [
    "#creating a dog class\n",
    "class dog():\n",
    "    def __init__(self, name):\n",
    "        self.name = name\n",
    "    def sit(self):\n",
    "        print(self.name + \"is sitting.\")\n",
    "my_dog = dog('peso')\n",
    "print(my_dog.name + \"is a great dog!\")\n",
    "my_dog.sit()\n",
    "    "
   ]
  },
  {
   "cell_type": "code",
   "execution_count": 58,
   "metadata": {},
   "outputs": [
    {
     "name": "stdout",
     "output_type": "stream",
     "text": [
      "poornima is a search dog.\n"
     ]
    }
   ],
   "source": [
    "class SARDog():\n",
    "    def __init__(self, name):\n",
    "        self.name = name\n",
    "    def __search(self):\n",
    "        print(self.name + \"is searching.\")\n",
    "my_dog = SARDog('poornima')\n",
    "print(my_dog.name + \" is a search dog.\")"
   ]
  },
  {
   "cell_type": "code",
   "execution_count": 62,
   "metadata": {},
   "outputs": [
    {
     "data": {
      "text/plain": [
       "1.3424226808222062"
      ]
     },
     "execution_count": 62,
     "metadata": {},
     "output_type": "execute_result"
    }
   ],
   "source": [
    "import math\n",
    "math.log10(22)"
   ]
  },
  {
   "cell_type": "code",
   "execution_count": null,
   "metadata": {},
   "outputs": [],
   "source": []
  }
 ],
 "metadata": {
  "kernelspec": {
   "display_name": "Python 3",
   "language": "python",
   "name": "python3"
  },
  "language_info": {
   "codemirror_mode": {
    "name": "ipython",
    "version": 3
   },
   "file_extension": ".py",
   "mimetype": "text/x-python",
   "name": "python",
   "nbconvert_exporter": "python",
   "pygments_lexer": "ipython3",
   "version": "3.7.4"
  }
 },
 "nbformat": 4,
 "nbformat_minor": 2
}
