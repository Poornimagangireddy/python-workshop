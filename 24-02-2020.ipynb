{
 "cells": [
  {
   "cell_type": "code",
   "execution_count": 22,
   "metadata": {},
   "outputs": [
    {
     "name": "stdout",
     "output_type": "stream",
     "text": [
      "x= 1 >> enter loop body <<\n",
      "....reached end of the loop body..\n",
      "x= 2 >> enter loop body <<\n",
      "x= 2 continue...back to the top of the loop!\n",
      "x= 3 >> enter loop body <<\n",
      "....reached end of the loop body..\n"
     ]
    }
   ],
   "source": [
    "x = 1\n",
    "while  x < 4:\n",
    "    print (\"x=\",x, \">> enter loop body <<\")\n",
    "    if x==2:\n",
    "        print(\"x=\",x, \"continue...back to the top of the loop!\")\n",
    "        x+=1\n",
    "        continue\n",
    "    x+=1\n",
    "    print(\"....reached end of the loop body..\")        "
   ]
  },
  {
   "cell_type": "code",
   "execution_count": 7,
   "metadata": {},
   "outputs": [
    {
     "name": "stdout",
     "output_type": "stream",
     "text": [
      "enter car numbers1\n",
      "allow the cars for parking 1 \n",
      "\n",
      "enter car numbers2\n",
      "allow the cars for parking 2 \n",
      "\n",
      "enter car numbers3\n",
      "allow the cars for parking 3 \n",
      "\n",
      "enter car numbers4\n",
      "allow the cars for parking 4 \n",
      "\n",
      "enter car numbers5\n",
      "allow the cars for parking 5 \n",
      "\n",
      "enter car numbers6\n",
      "allow the cars for parking 6 \n",
      "\n",
      "after 6 th car donot allow for parking\n"
     ]
    }
   ],
   "source": [
    "x=0\n",
    "for x in range(1,7):\n",
    "    prompt=(input(\"enter car numbers\"))\n",
    "    print(\"allow the cars for parking\",x,'\\n')\n",
    "    x+=1\n",
    "print(\"after 6 th car donot allow for parking\")\n"
   ]
  },
  {
   "cell_type": "code",
   "execution_count": 1,
   "metadata": {},
   "outputs": [
    {
     "name": "stdout",
     "output_type": "stream",
     "text": [
      "enter car numbers1\n",
      "waiting for next car\n",
      "enter car numbers2\n",
      "waiting for next car\n",
      "enter car numbers3\n",
      "waiting for next car\n",
      "enter car numbers4\n",
      "waiting for next car\n",
      "enter car numbers5\n",
      "waiting for next car\n",
      "enter car numbers6\n",
      "waiting for next car\n",
      "not allow for parking\n"
     ]
    }
   ],
   "source": [
    "x=0\n",
    "for x in range(1,7):\n",
    "    prompt=(input(\"enter car numbers\"))\n",
    "    print(\"waiting for next car\")\n",
    "    continue\n",
    "    x+=1\n",
    "    break\n",
    "print(\"not allow for parking\")\n"
   ]
  },
  {
   "cell_type": "code",
   "execution_count": 2,
   "metadata": {},
   "outputs": [
    {
     "name": "stdout",
     "output_type": "stream",
     "text": [
      "['False', 'None', 'True', 'and', 'as', 'assert', 'async', 'await', 'break', 'class', 'continue', 'def', 'del', 'elif', 'else', 'except', 'finally', 'for', 'from', 'global', 'if', 'import', 'in', 'is', 'lambda', 'nonlocal', 'not', 'or', 'pass', 'raise', 'return', 'try', 'while', 'with', 'yield']\n"
     ]
    }
   ],
   "source": [
    "import keyword\n",
    "print(keyword.kwlist)"
   ]
  },
  {
   "cell_type": "code",
   "execution_count": 3,
   "metadata": {},
   "outputs": [
    {
     "ename": "ModuleNotFoundError",
     "evalue": "No module named 'built_in_function'",
     "output_type": "error",
     "traceback": [
      "\u001b[1;31m---------------------------------------------------------------------------\u001b[0m",
      "\u001b[1;31mModuleNotFoundError\u001b[0m                       Traceback (most recent call last)",
      "\u001b[1;32m<ipython-input-3-6ad02100a2db>\u001b[0m in \u001b[0;36m<module>\u001b[1;34m\u001b[0m\n\u001b[1;32m----> 1\u001b[1;33m \u001b[1;32mimport\u001b[0m \u001b[0mbuilt_in_function\u001b[0m\u001b[1;33m\u001b[0m\u001b[1;33m\u001b[0m\u001b[0m\n\u001b[0m\u001b[0;32m      2\u001b[0m \u001b[0mprint\u001b[0m\u001b[1;33m(\u001b[0m\u001b[0mbuilt_in_function\u001b[0m\u001b[1;33m.\u001b[0m\u001b[0mbfunclist\u001b[0m\u001b[1;33m)\u001b[0m\u001b[1;33m\u001b[0m\u001b[1;33m\u001b[0m\u001b[0m\n",
      "\u001b[1;31mModuleNotFoundError\u001b[0m: No module named 'built_in_function'"
     ]
    }
   ],
   "source": [
    "import built_in_function\n",
    "print(built_in_function.bfunclist)"
   ]
  },
  {
   "cell_type": "code",
   "execution_count": null,
   "metadata": {},
   "outputs": [],
   "source": []
  }
 ],
 "metadata": {
  "kernelspec": {
   "display_name": "Python 3",
   "language": "python",
   "name": "python3"
  },
  "language_info": {
   "codemirror_mode": {
    "name": "ipython",
    "version": 3
   },
   "file_extension": ".py",
   "mimetype": "text/x-python",
   "name": "python",
   "nbconvert_exporter": "python",
   "pygments_lexer": "ipython3",
   "version": "3.7.4"
  }
 },
 "nbformat": 4,
 "nbformat_minor": 2
}
